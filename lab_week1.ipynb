{
 "cells": [
  {
   "attachments": {},
   "cell_type": "markdown",
   "id": "096864e3",
   "metadata": {},
   "source": [
    "### Machine Learning"
   ]
  },
  {
   "cell_type": "code",
   "execution_count": 1,
   "id": "5d7f1bab",
   "metadata": {},
   "outputs": [
    {
     "name": "stdout",
     "output_type": "stream",
     "text": [
      "The multiply of 2 and 10.3=20.6\n",
      "p\n",
      "y\n",
      "t\n",
      "h\n",
      "o\n",
      "n\n"
     ]
    }
   ],
   "source": [
    "#variables\n",
    "num1 = 2 #integer\n",
    "num2 = 10.3 #float\n",
    "language = \"python\" #string\n",
    "print(f\"The multiply of {num1} and {num2}={num1*num2}\")\n",
    "for character in language:\n",
    "    print(character)"
   ]
  },
  {
   "cell_type": "code",
   "execution_count": 3,
   "id": "63734e0e",
   "metadata": {},
   "outputs": [
    {
     "name": "stdout",
     "output_type": "stream",
     "text": [
      "[0, 2, 4, 6, 8]\n",
      "The sum of even numbers from 0 to 10= 20\n",
      "[6, 4, 2, 0]\n",
      "[4, 2]\n",
      "<class 'list'>\n"
     ]
    }
   ],
   "source": [
    "#list\n",
    "evenList = []\n",
    "sum1 = 0\n",
    "#List Comprehension \n",
    "evenList = [item for item in range(10) if item%2 == 0 ]\n",
    "print(evenList)\n",
    "for item in evenList:\n",
    "    sum1 += item \n",
    "print(\"The sum of even numbers from 0 to 10=\",sum1)\n",
    "size = len(evenList)\n",
    "evenList.pop(-1) #delete last item\n",
    "evenList.sort(reverse=True) #descending order\n",
    "print(evenList)\n",
    "subList = evenList[1:3]\n",
    "print(subList)\n",
    "mixList = [\"python\",5.6,True,12] #the list take different data type\n",
    "print(type(mixList))"
   ]
  },
  {
   "cell_type": "code",
   "execution_count": 4,
   "id": "95b1d9e9",
   "metadata": {},
   "outputs": [
    {
     "name": "stdout",
     "output_type": "stream",
     "text": [
      "dict_items([('apple', 'green'), ('banana', 'yellow'), ('strawberry', 'red')])\n",
      "dict_keys(['apple', 'banana', 'strawberry'])\n",
      "dict_values(['green', 'yellow', 'red'])\n",
      "green\n",
      "True\n"
     ]
    }
   ],
   "source": [
    "#Dictionary\n",
    "myDict = {\"apple\":\"green\",\"banana\":\"yellow\",\"strawberry\":\"red\"}\n",
    "print(myDict.items())\n",
    "print(myDict.keys())\n",
    "print(myDict.values())\n",
    "\n",
    "firstValue = myDict[\"apple\"] #take key\n",
    "print(firstValue)\n",
    "\n",
    "keyItem = \"red\"\n",
    "if keyItem in myDict.values():\n",
    "    print(\"True\")\n",
    "else: \n",
    "     print(\"False\")   "
   ]
  },
  {
   "cell_type": "code",
   "execution_count": 5,
   "id": "46bccdbf",
   "metadata": {},
   "outputs": [
    {
     "name": "stdout",
     "output_type": "stream",
     "text": [
      "factorial of 6 is=720\n",
      "factorial of 6 is=720\n"
     ]
    }
   ],
   "source": [
    "#loops\n",
    "num = 6\n",
    "fact = 1\n",
    "for item in range(1,num+1):\n",
    "    fact *= item\n",
    "print(f\"factorial of {num} is={fact}\")\n",
    "#using while loop\n",
    "i=1\n",
    "fact=1\n",
    "while i <= num:\n",
    "      fact *= i\n",
    "      i +=1\n",
    "print(f\"factorial of {num} is={fact}\")      "
   ]
  },
  {
   "cell_type": "code",
   "execution_count": 10,
   "id": "f36226fe",
   "metadata": {},
   "outputs": [
    {
     "name": "stdout",
     "output_type": "stream",
     "text": [
      "num1<num2\n"
     ]
    }
   ],
   "source": [
    "#Conditionals\n",
    "num1=3\n",
    "num2=4\n",
    "if num1>num2:\n",
    "    print(\"num1>num2\")\n",
    "elif num1 == num2:\n",
    "    print(\"num1=num2\")\n",
    "else:\n",
    "     print(\"num1<num2\")"
   ]
  },
  {
   "cell_type": "code",
   "execution_count": 11,
   "id": "14b00a18",
   "metadata": {},
   "outputs": [
    {
     "name": "stdout",
     "output_type": "stream",
     "text": [
      "8\n",
      "10\n",
      "78.5\n"
     ]
    }
   ],
   "source": [
    "#Functions\n",
    "\n",
    "def powFunc(a,b):\n",
    "    print(a*b)\n",
    "powFunc(2,4)\n",
    "\n",
    "#default variable\n",
    "def otherFunc(x,y,z=1):\n",
    "    total = x+y+z\n",
    "    print(total)\n",
    "otherFunc(4,5)\n",
    "\n",
    "#Lambda function\n",
    "pi=3.14\n",
    "result = lambda r:pi*r*r\n",
    "print(result(5))"
   ]
  }
 ],
 "metadata": {
  "kernelspec": {
   "display_name": "Python 3 (ipykernel)",
   "language": "python",
   "name": "python3"
  },
  "language_info": {
   "codemirror_mode": {
    "name": "ipython",
    "version": 3
   },
   "file_extension": ".py",
   "mimetype": "text/x-python",
   "name": "python",
   "nbconvert_exporter": "python",
   "pygments_lexer": "ipython3",
   "version": "3.10.7"
  }
 },
 "nbformat": 4,
 "nbformat_minor": 5
}
