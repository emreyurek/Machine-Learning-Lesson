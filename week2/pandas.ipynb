{
 "cells": [
  {
   "cell_type": "markdown",
   "id": "b1c6af93",
   "metadata": {},
   "source": [
    "## Pandas library"
   ]
  },
  {
   "cell_type": "code",
   "execution_count": 141,
   "id": "f727b08c",
   "metadata": {},
   "outputs": [],
   "source": [
    "import pandas as pd #using pandas library as pd\n"
   ]
  },
  {
   "cell_type": "code",
   "execution_count": 142,
   "id": "b1c33882",
   "metadata": {},
   "outputs": [
    {
     "name": "stdout",
     "output_type": "stream",
     "text": [
      "version: 1.4.4\n",
      "0    7\n",
      "1    4\n",
      "2    6\n",
      "dtype: int64\n",
      "first value: 7\n",
      "x    7\n",
      "y    4\n",
      "z    6\n",
      "dtype: int64\n",
      "first value: 7\n"
     ]
    }
   ],
   "source": [
    "print(\"version:\",pd.__version__)\n",
    "#create Series -> one-dimensional array holding data of any type\n",
    "v = [7,4,6]\n",
    "myvar = pd.Series(v)\n",
    "print(myvar)\n",
    "print(\"first value:\",myvar[0])\n",
    "#create labels\n",
    "myvar2 = pd.Series(v,index = [\"x\",\"y\",\"z\"])\n",
    "print(myvar2)\n",
    "print(\"first value:\",myvar2[\"x\"]) #accessing with label "
   ]
  },
  {
   "cell_type": "code",
   "execution_count": 143,
   "id": "17621364",
   "metadata": {},
   "outputs": [
    {
     "name": "stdout",
     "output_type": "stream",
     "text": [
      "banana        yellow\n",
      "strawberry       red\n",
      "apple          green\n",
      "dtype: object\n",
      "color of apple: green\n",
      "----------\n",
      "banana    yellow\n",
      "apple      green\n",
      "dtype: object\n"
     ]
    }
   ],
   "source": [
    "#key/value object as series\n",
    "\n",
    "fruitscolor ={\"banana\":\"yellow\",\"strawberry\":\"red\",\"apple\":\"green\"}\n",
    "myvar = pd.Series(fruitscolor)\n",
    "print(myvar)\n",
    "print(\"color of apple:\",myvar[\"apple\"])\n",
    "#to select only some of the items in the dictionary with using index \n",
    "myvar2 = pd.Series(fruitscolor,index = [\"banana\",\"apple\"]) \n",
    "print(\"----------\")\n",
    "print(myvar2)"
   ]
  },
  {
   "cell_type": "code",
   "execution_count": 144,
   "id": "2e5b3021",
   "metadata": {},
   "outputs": [
    {
     "name": "stdout",
     "output_type": "stream",
     "text": [
      "Index(['length', 'price'], dtype='object')\n",
      "length    int64\n",
      "price     int64\n",
      "dtype: object\n",
      "          length       price\n",
      "count   3.000000    3.000000\n",
      "mean   37.000000  106.666667\n",
      "std    22.113344   42.217690\n",
      "min    12.000000   77.000000\n",
      "25%    28.500000   82.500000\n",
      "50%    45.000000   88.000000\n",
      "75%    49.500000  121.500000\n",
      "max    54.000000  155.000000\n",
      "   length  price\n",
      "0      12    155\n",
      "1      45     88\n",
      "2      54     77\n"
     ]
    }
   ],
   "source": [
    "#DataFrames -> 2 dimensional data structure\n",
    "#Series is like a column, DataFrame is the whole table \n",
    "data = {\n",
    "    \"length\":[12,45,54],\n",
    "    \"price\":[155,88,77]\n",
    "}\n",
    "myvar = pd.DataFrame(data)\n",
    "print(myvar.columns) # gives names of columns\n",
    "print(myvar.dtypes) # gives types of each columns\n",
    "print(myvar.describe())\n",
    "print(myvar)\n"
   ]
  },
  {
   "cell_type": "code",
   "execution_count": 145,
   "id": "95e6fbfa",
   "metadata": {},
   "outputs": [
    {
     "name": "stdout",
     "output_type": "stream",
     "text": [
      "length     3\n",
      "price     10\n",
      "Name: 0, dtype: int64\n",
      "   length  price\n",
      "1       4     20\n",
      "2       5     30\n",
      "0    10\n",
      "1    20\n",
      "2    30\n",
      "3    76\n",
      "Name: price, dtype: int64\n",
      "0    10\n",
      "1    20\n",
      "2    30\n",
      "Name: price, dtype: int64\n",
      "   length  price\n",
      "0       3     10\n",
      "1       4     20\n",
      "   length  price\n",
      "3       6     76\n",
      "2       5     30\n",
      "1       4     20\n",
      "0       3     10\n",
      "   length  price\n",
      "0       3     10\n",
      "1       4     20\n",
      "2       5     30\n"
     ]
    }
   ],
   "source": [
    "data = {\n",
    "    \"length\" : [3,4,5,6],\n",
    "    \"price\" : [10,20,30,76]\n",
    "}\n",
    "df = pd.DataFrame(data)\n",
    "print(df.loc[0]) #refers to the row index and return series\n",
    "print(df.loc[[1,2]]) # return DataFrame -> loc[[]]\n",
    "print(df.loc[:,\"price\"]) #only prices = df[\"price\"]\n",
    "print(df.loc[:2,\"price\"]) # return only 3 rows for price\n",
    "print(df.loc[:1,\"length\":\"price\"])\n",
    "print(df.loc[::-1])\n",
    "print(df.loc[:2,[\"length\",\"price\"]])"
   ]
  },
  {
   "cell_type": "code",
   "execution_count": 146,
   "id": "e0d011dd",
   "metadata": {
    "scrolled": true
   },
   "outputs": [
    {
     "name": "stdout",
     "output_type": "stream",
     "text": [
      "      sport  calories\n",
      "day1     25        60\n",
      "day2      7        10\n",
      "day3     14        30\n",
      "      sport  calories\n",
      "day3     14        30\n",
      "day1    1\n",
      "day2    2\n",
      "day3    3\n",
      "Name: new, dtype: int64\n"
     ]
    }
   ],
   "source": [
    "data = {\n",
    "    \"sport\":[25,7,14],\n",
    "    \"calories\":[60,10,30]\n",
    "}\n",
    "df = pd.DataFrame(data,index = [\"day1\",\"day2\",\"day3\"])\n",
    "print(df)\n",
    "print(df.loc[[\"day3\"]])\n",
    "df[\"new\"] = [1,2,3]\n",
    "print(df.loc[:,\"new\"]) # or df[\"new\"]\n"
   ]
  },
  {
   "cell_type": "code",
   "execution_count": 147,
   "id": "2b8f36ee",
   "metadata": {},
   "outputs": [
    {
     "name": "stdout",
     "output_type": "stream",
     "text": [
      "     Duration  Pulse  Maxpulse  Calories\n",
      "0          60    110       130     409.1\n",
      "1          60    117       145     479.0\n",
      "2          60    103       135     340.0\n",
      "3          45    109       175     282.4\n",
      "4          45    117       148     406.0\n",
      "5          60    102       127     300.0\n",
      "6          60    110       136     374.0\n",
      "7          45    104       134     253.3\n",
      "8          30    109       133     195.1\n",
      "9          60     98       124     269.0\n",
      "10         60    103       147     329.3\n",
      "11         60    100       120     250.7\n",
      "12         60    106       128     345.3\n",
      "13         60    104       132     379.3\n",
      "14         60     98       123     275.0\n",
      "15         60     98       120     215.2\n",
      "16         60    100       120     300.0\n",
      "17         45     90       112       NaN\n",
      "18         60    103       123     323.0\n",
      "19         45     97       125     243.0\n",
      "20         60    108       131     364.2\n",
      "21         45    100       119     282.0\n",
      "22         60    130       101     300.0\n",
      "23         45    105       132     246.0\n",
      "24         60    102       126     334.5\n",
      "25         60    100       120     250.0\n",
      "26         60     92       118     241.0\n",
      "27         60    103       132       NaN\n",
      "28         60    100       132     280.0\n",
      "29         60    102       129     380.3\n",
      "30         60     92       115     243.0\n",
      "31         45     90       112     180.1\n",
      "32         60    101       124     299.0\n",
      "33         60     93       113     223.0\n",
      "34         60    107       136     361.0\n",
      "35         60    114       140     415.0\n",
      "36         60    102       127     300.0\n",
      "37         60    100       120     300.0\n",
      "38         60    100       120     300.0\n",
      "39         45    104       129     266.0\n",
      "40         45     90       112     180.1\n",
      "41         60     98       126     286.0\n",
      "42         60    100       122     329.4\n",
      "43         60    111       138     400.0\n",
      "44         60    111       131     397.0\n",
      "45         60     99       119     273.0\n",
      "46         60    109       153     387.6\n",
      "47         45    111       136     300.0\n",
      "48         45    108       129     298.0\n",
      "49         60    111       139     397.6\n",
      "50         60    107       136     380.2\n",
      "51         80    123       146     643.1\n",
      "52         60    106       130     263.0\n",
      "53         60    118       151     486.0\n",
      "54         30    136       175     238.0\n",
      "55         60    121       146     450.7\n",
      "56         60    118       121     413.0\n",
      "57         45    115       144     305.0\n",
      "58         20    153       172     226.4\n",
      "59         45    123       152     321.0\n",
      "60        210    108       160    1376.0\n",
      "61        160    110       137    1034.4\n",
      "62        160    109       135     853.0\n",
      "63         45    118       141     341.0\n",
      "64         20    110       130     131.4\n",
      "65        180     90       130     800.4\n",
      "66        150    105       135     873.4\n",
      "67        150    107       130     816.0\n",
      "68         20    106       136     110.4\n",
      "69        300    108       143    1500.2\n",
      "70        150     97       129    1115.0\n",
      "71         60    109       153     387.6\n",
      "72         90    100       127     700.0\n",
      "73        150     97       127     953.2\n",
      "74         45    114       146     304.0\n",
      "75         90     98       125     563.2\n",
      "76         45    105       134     251.0\n",
      "77         45    110       141     300.0\n",
      "78        120    100       130     500.4\n",
      "79        270    100       131    1729.0\n",
      "80         30    159       182     319.2\n",
      "81         45    149       169     344.0\n",
      "82         30    103       139     151.1\n",
      "83        120    100       130     500.0\n",
      "84         45    100       120     225.3\n",
      "85         30    151       170     300.0\n",
      "86         45    102       136     234.0\n",
      "87        120    100       157    1000.1\n",
      "88         45    129       103     242.0\n",
      "89         20     83       107      50.3\n",
      "90        180    101       127     600.1\n",
      "91         45    107       137       NaN\n",
      "92         30     90       107     105.3\n",
      "93         15     80       100      50.5\n",
      "94         20    150       171     127.4\n",
      "95         20    151       168     229.4\n",
      "96         30     95       128     128.2\n",
      "97         25    152       168     244.2\n",
      "98         30    109       131     188.2\n",
      "99         90     93       124     604.1\n",
      "100        20     95       112      77.7\n",
      "101        90     90       110     500.0\n",
      "102        90     90       100     500.0\n",
      "103        90     90       100     500.4\n",
      "104        30     92       108      92.7\n",
      "105        30     93       128     124.0\n",
      "106       180     90       120     800.3\n",
      "107        30     90       120      86.2\n",
      "108        90     90       120     500.3\n",
      "109       210    137       184    1860.4\n",
      "110        60    102       124     325.2\n",
      "111        45    107       124     275.0\n",
      "112        15    124       139     124.2\n",
      "113        45    100       120     225.3\n",
      "114        60    108       131     367.6\n",
      "115        60    108       151     351.7\n",
      "116        60    116       141     443.0\n",
      "117        60     97       122     277.4\n",
      "118        60    105       125       NaN\n",
      "119        60    103       124     332.7\n",
      "120        30    112       137     193.9\n",
      "121        45    100       120     100.7\n",
      "122        60    119       169     336.7\n",
      "123        60    107       127     344.9\n",
      "124        60    111       151     368.5\n",
      "125        60     98       122     271.0\n",
      "126        60     97       124     275.3\n",
      "127        60    109       127     382.0\n",
      "128        90     99       125     466.4\n",
      "129        60    114       151     384.0\n",
      "130        60    104       134     342.5\n",
      "131        60    107       138     357.5\n",
      "132        60    103       133     335.0\n",
      "133        60    106       132     327.5\n",
      "134        60    103       136     339.0\n",
      "135        20    136       156     189.0\n",
      "136        45    117       143     317.7\n",
      "137        45    115       137     318.0\n",
      "138        45    113       138     308.0\n",
      "139        20    141       162     222.4\n",
      "140        60    108       135     390.0\n",
      "141        60     97       127       NaN\n",
      "142        45    100       120     250.4\n",
      "143        45    122       149     335.4\n",
      "144        60    136       170     470.2\n",
      "145        45    106       126     270.8\n",
      "146        60    107       136     400.0\n",
      "147        60    112       146     361.9\n",
      "148        30    103       127     185.0\n",
      "149        60    110       150     409.4\n",
      "150        60    106       134     343.0\n",
      "151        60    109       129     353.2\n",
      "152        60    109       138     374.0\n",
      "153        30    150       167     275.8\n",
      "154        60    105       128     328.0\n",
      "155        60    111       151     368.5\n",
      "156        60     97       131     270.4\n",
      "157        60    100       120     270.4\n",
      "158        60    114       150     382.8\n",
      "159        30     80       120     240.9\n",
      "160        30     85       120     250.4\n",
      "161        45     90       130     260.4\n",
      "162        45     95       130     270.0\n",
      "163        45    100       140     280.9\n",
      "164        60    105       140     290.8\n",
      "165        60    110       145     300.0\n",
      "166        60    115       145     310.2\n",
      "167        75    120       150     320.4\n",
      "168        75    125       150     330.4\n"
     ]
    }
   ],
   "source": [
    "#Read CSV\n",
    "#CSV files(comma separated files) -> store big data sets\n",
    "df = pd.read_csv(\"C:/Users/EMRE/Desktop/dersler/machine learning/data/data.csv\")\n",
    "print(df.to_string()) #to_string() to print entire DataFrame\n",
    "#print(df) # returns first and last 5 rows "
   ]
  },
  {
   "cell_type": "code",
   "execution_count": 148,
   "id": "5bec13e4",
   "metadata": {},
   "outputs": [
    {
     "name": "stdout",
     "output_type": "stream",
     "text": [
      "      name   age     note\n",
      "0      ali  12.0    123.0\n",
      "1     veli  34.0    456.0\n",
      "2  zübeyde  56.0     78.0\n",
      "3    ahmet  78.0  87654.0\n",
      "4    kubra   NaN      NaN\n",
      "---------------------\n",
      "   name   age   note\n",
      "0   ali  12.0  123.0\n",
      "1  veli  34.0  456.0\n",
      "----------------------\n",
      "      name   age     note\n",
      "1     veli  34.0    456.0\n",
      "2  zübeyde  56.0     78.0\n",
      "3    ahmet  78.0  87654.0\n",
      "4    kubra   NaN      NaN\n",
      "5      can  12.0     89.0\n",
      "----------------------\n",
      "    name   age  note\n",
      "4  kubra   NaN   NaN\n",
      "5    can  12.0  89.0\n"
     ]
    }
   ],
   "source": [
    "# head() and tail() methods\n",
    "dictionary = {\"name\":[\"ali\",\"veli\",\"zübeyde\",\"ahmet\",\"kubra\",\"can\"],\n",
    "             \"age\":[12,34,56,78,None,12],\n",
    "             \"note\":[123,456,78,87654,None,89]}\n",
    "df = pd.DataFrame(dictionary)\n",
    "print(df.head()) #return top 5 rows as default \n",
    "print(\"---------------------\")\n",
    "print(df.head(2)) #return top 2 rows\n",
    "print(\"----------------------\")\n",
    "print(df.tail()) #return last 5 rows as default\n",
    "print(\"----------------------\")\n",
    "print(df.tail(2)) #return last 2 rows"
   ]
  },
  {
   "cell_type": "code",
   "execution_count": 149,
   "id": "4b3ea60d",
   "metadata": {},
   "outputs": [
    {
     "name": "stdout",
     "output_type": "stream",
     "text": [
      "<class 'pandas.core.frame.DataFrame'>\n",
      "RangeIndex: 6 entries, 0 to 5\n",
      "Data columns (total 3 columns):\n",
      " #   Column  Non-Null Count  Dtype  \n",
      "---  ------  --------------  -----  \n",
      " 0   name    6 non-null      object \n",
      " 1   age     5 non-null      float64\n",
      " 2   note    5 non-null      float64\n",
      "dtypes: float64(2), object(1)\n",
      "memory usage: 272.0+ bytes\n",
      "None\n"
     ]
    }
   ],
   "source": [
    "#info\n",
    "# give us more information about the data set\n",
    "print(df.info())"
   ]
  },
  {
   "cell_type": "code",
   "execution_count": 150,
   "id": "52f6ffac",
   "metadata": {},
   "outputs": [
    {
     "name": "stdout",
     "output_type": "stream",
     "text": [
      "      name   age     note\n",
      "0      ali  12.0    123.0\n",
      "1     veli  34.0    456.0\n",
      "2  zübeyde  56.0     78.0\n",
      "3    ahmet  78.0  87654.0\n",
      "5      can  12.0     89.0\n",
      "-----------------\n",
      "      name   age     note\n",
      "0      ali  12.0    123.0\n",
      "1     veli  34.0    456.0\n",
      "2  zübeyde  56.0     78.0\n",
      "3    ahmet  78.0  87654.0\n",
      "5      can  12.0     89.0\n"
     ]
    }
   ],
   "source": [
    "#remove rows\n",
    "new_df = df.dropna() #dropna() returns a new DataFrame with no empty cells and will not affect original DataFrame\n",
    "print(new_df)\n",
    "#dropna(inplace = True) will not return a new DataFrame, but it will remove all rows containing\n",
    "#NULL values from the original DataFrame so it will affect original DataFrame \n",
    "df.dropna(inplace = True) \n",
    "print(\"-----------------\")\n",
    "print(df)"
   ]
  },
  {
   "cell_type": "code",
   "execution_count": 151,
   "id": "4bbc05b7",
   "metadata": {},
   "outputs": [
    {
     "name": "stdout",
     "output_type": "stream",
     "text": [
      "      name    age     note\n",
      "0      ali   12.0    123.0\n",
      "1     veli   34.0    456.0\n",
      "2  zübeyde   56.0     78.0\n",
      "3    ahmet   78.0  87654.0\n",
      "4    kubra  100.0    100.0\n",
      "5      can   12.0     89.0\n",
      "-------------------------\n",
      "      name    age     note\n",
      "0      ali   12.0    123.0\n",
      "1     veli   34.0    456.0\n",
      "2  zübeyde   56.0     78.0\n",
      "3    ahmet   78.0  87654.0\n",
      "4    kubra  100.0      NaN\n",
      "5      can   12.0     89.0\n"
     ]
    }
   ],
   "source": [
    "#fillna() method allows us to replace empty cells with a value\n",
    "df = pd.DataFrame(dictionary)\n",
    "df.fillna(100,inplace=True)\n",
    "print(df)\n",
    "# empty cells  got the value 100 (in row 4)\n",
    "df2 = pd.DataFrame(dictionary)\n",
    "# Replace only for specified colums\n",
    "df2[\"age\"].fillna(100,inplace=True)\n",
    "print(\"-------------------------\")\n",
    "print(df2)"
   ]
  },
  {
   "cell_type": "code",
   "execution_count": 152,
   "id": "a792681c",
   "metadata": {},
   "outputs": [
    {
     "name": "stdout",
     "output_type": "stream",
     "text": [
      "      name   age     note\n",
      "0      ali  12.0    123.0\n",
      "1     veli  34.0    456.0\n",
      "2  zübeyde  56.0     78.0\n",
      "3    ahmet  78.0  87654.0\n",
      "4    kubra   NaN      NaN\n",
      "5      can  12.0     89.0\n",
      "mean:38.4 median:34.0 mode:12.0\n"
     ]
    }
   ],
   "source": [
    "#mean() median() and mode()\n",
    "#mean = the average value\n",
    "#median = the value in the middle\n",
    "#mode = the value that appears most frequently\n",
    "\n",
    "df = pd.DataFrame(dictionary)\n",
    "print(df)\n",
    "print(f\"mean:{df.age.mean()} median:{df.age.median()} mode:{df.age.mode()[0]}\")"
   ]
  },
  {
   "cell_type": "code",
   "execution_count": 153,
   "id": "f0739bca",
   "metadata": {},
   "outputs": [
    {
     "name": "stdout",
     "output_type": "stream",
     "text": [
      "   Duration        Date  Pulse  Maxpulse\n",
      "0        60  2020/12/01    110       130\n",
      "1        60    20201202    117        45\n",
      "2       450  2020/12/03    200        50\n",
      "3        60  2020/12/04     12       299\n",
      "4        60        None     43        55\n",
      "   Duration       Date  Pulse  Maxpulse\n",
      "0        60 2020-12-01    110       130\n",
      "1        60 2020-12-02    117        45\n",
      "2       450 2020-12-03    200        50\n",
      "3        60 2020-12-04     12       299\n",
      "4        60        NaT     43        55\n",
      "   Duration       Date  Pulse  Maxpulse\n",
      "0        60 2020-12-01    110       130\n",
      "1        60 2020-12-02    117        45\n",
      "2       450 2020-12-03    200        50\n",
      "3        60 2020-12-04     12       299\n",
      "   Duration        Date  Pulse  Maxpulse\n",
      "0        60  2020/12/01    110       130\n",
      "1        60    20201202    117        45\n",
      "2       450  2020/12/03    200        50\n",
      "3        60  2020/12/04     12       299\n",
      "4        60        None     43        55\n",
      "   Duration        Date  Pulse  Maxpulse\n",
      "0        60  2020/12/01    110       130\n",
      "1        60    20201202    117        45\n",
      "2        60  2020/12/03    200        50\n",
      "3        60  2020/12/04     12       299\n",
      "4        60        None     43        55\n"
     ]
    }
   ],
   "source": [
    "#Cleaning Data of Wrong Format\n",
    "data = {\n",
    "    \"Duration\":[60,60,450,60,60],\n",
    "    \"Date\":['2020/12/01','20201202','2020/12/03','2020/12/04',None],\n",
    "    \"Pulse\":[110,117,200,12,43],\n",
    "    \"Maxpulse\":[130,45,50,299,55]\n",
    "}\n",
    "df = pd.DataFrame(data)\n",
    "print(df)\n",
    "#convert into a correct format for row 1\n",
    "#to_datetime()\n",
    "df.Date = pd.to_datetime(df.Date)\n",
    "print(df)\n",
    "df.dropna(subset =['Date'],inplace=True) # remove row which has a Nat value\n",
    "print(df)\n",
    "#replacing values\n",
    "df = pd.DataFrame(data)\n",
    "print(df)\n",
    "df.loc[2,'Duration'] = 60\n",
    "print(df)"
   ]
  },
  {
   "cell_type": "code",
   "execution_count": 154,
   "id": "7bce4bea",
   "metadata": {},
   "outputs": [
    {
     "name": "stdout",
     "output_type": "stream",
     "text": [
      "   Duration        Date  Pulse  Maxpulse\n",
      "0        60  2020/12/01     99       130\n",
      "1        60  2020/12/01     99       130\n",
      "2        60    20201202     99        45\n",
      "3       450  2020/12/03     99        50\n",
      "4        60  2020/12/04     12       299\n",
      "5        60        None     43        55\n",
      "   Duration        Date  Pulse  Maxpulse   Bool\n",
      "0        60  2020/12/01     99       130   True\n",
      "1        60  2020/12/01     99       130   True\n",
      "2        60    20201202     99        45   True\n",
      "3       450  2020/12/03     99        50  False\n",
      "4        60  2020/12/04     12       299   True\n",
      "5        60        None     43        55   True\n",
      "   Duration        Date  Pulse  Maxpulse  Bool\n",
      "0        60  2020/12/01     99       130  True\n",
      "1        60  2020/12/01     99       130  True\n",
      "4        60  2020/12/04     12       299  True\n"
     ]
    }
   ],
   "source": [
    "#filter\n",
    "data = {\n",
    "    \"Duration\":[60,60,60,450,60,60],\n",
    "    \"Date\":['2020/12/01','2020/12/01','20201202','2020/12/03','2020/12/04',None],\n",
    "    \"Pulse\":[110,110,117,200,12,43],\n",
    "    \"Maxpulse\":[130,130,45,50,299,55]\n",
    "}\n",
    "df = pd.DataFrame(data)\n",
    "for x in df.index:\n",
    "    if df.loc[x,\"Pulse\"]>100:\n",
    "        df.loc[x,\"Pulse\"] = 99\n",
    "print(df)        \n",
    "filtre1 = df.Duration <= 60\n",
    "df[\"Bool\"] = filtre1\n",
    "print(df)\n",
    "print(df[df.Maxpulse>70])"
   ]
  },
  {
   "cell_type": "code",
   "execution_count": 155,
   "id": "e3325c86",
   "metadata": {},
   "outputs": [
    {
     "name": "stdout",
     "output_type": "stream",
     "text": [
      "   Maxpulse   Bool\n",
      "0       130   True\n",
      "1       130   True\n",
      "2        45  False\n",
      "3        50  False\n",
      "4       299   True\n",
      "5        55  False\n",
      "   Duration        Date  Pulse  Maxpulse  Bool\n",
      "0        60  2020/12/01    110       130  True\n",
      "1        60  2020/12/01    110       130  True\n",
      "4        60  2020/12/04     12       299  True\n",
      "   Duration        Date  Pulse  Maxpulse  Bool\n",
      "4        60  2020/12/04     12       299  True\n"
     ]
    }
   ],
   "source": [
    "df = pd.DataFrame(data)\n",
    "filter1 = df.Maxpulse > 100\n",
    "df[\"Bool\"] = filter1\n",
    "print(df.loc[:,[\"Maxpulse\",\"Bool\"]])\n",
    "filtered_data = df[filter1] # return only true rows\n",
    "print(filtered_data)\n",
    "filter2 = df.Pulse < 100\n",
    "filtered_data2 = df[filter1&filter2]\n",
    "print(filtered_data2)"
   ]
  },
  {
   "cell_type": "code",
   "execution_count": 156,
   "id": "a50f20d5",
   "metadata": {},
   "outputs": [
    {
     "name": "stdout",
     "output_type": "stream",
     "text": [
      "0    False\n",
      "1     True\n",
      "2    False\n",
      "3    False\n",
      "4    False\n",
      "5    False\n",
      "dtype: bool\n",
      "   Duration        Date  Pulse  Maxpulse   Bool\n",
      "0        60  2020/12/01    110       130   True\n",
      "2        60    20201202    117        45  False\n",
      "3       450  2020/12/03    200        50  False\n",
      "4        60  2020/12/04     12       299   True\n",
      "5        60        None     43        55  False\n"
     ]
    }
   ],
   "source": [
    "#duplicated() method\n",
    "print(df.duplicated())\n",
    "# returns True for very row that is a duplicate, otherwise False\n",
    "df.drop_duplicates(inplace=True) # remove all duplicates\n",
    "print(df)"
   ]
  },
  {
   "cell_type": "code",
   "execution_count": 167,
   "id": "0f87afe7",
   "metadata": {},
   "outputs": [
    {
     "name": "stdout",
     "output_type": "stream",
     "text": [
      "69.0\n",
      "   note  durum\n",
      "0    98  geçti\n",
      "1    32  kaldı\n",
      "2    77  geçti\n",
      "  name  age  note  durum  test future\n",
      "0    a   10    98  geçti            1\n",
      "1    b   11    32  kaldı            2\n",
      "2    c    9    77  geçti            3\n",
      "  name  age  note  durum  test_future\n",
      "0    a   10    98  geçti            1\n",
      "1    b   11    32  kaldı            2\n",
      "2    c    9    77  geçti            3\n"
     ]
    }
   ],
   "source": [
    "#list comprehension\n",
    "data = {\n",
    "    \"name\":[\"a\",\"b\",\"c\"],\n",
    "    \"age\":[10,11,9],\n",
    "    \"note\":[98,32,77]\n",
    "}\n",
    "df = pd.DataFrame(data)\n",
    "df[\"durum\"] = [\"geçti\" if df.note.mean() < item else \"kaldı\" for item in df.note]\n",
    "print(df.note.mean())\n",
    "print(df.loc[:,[\"note\",\"durum\"]])\n",
    "df[\"test_future\"] = [1,2,3]\n",
    "df.columns = [item.split(\"_\")[0] +\" \"+item.split(\"_\")[1] if len(item.split(\"_\")) > 1 else item for item in df.columns]\n",
    "print(df)\n",
    "df.columns = [item.split(\" \")[0] + \"_\" + item.split(\" \")[1] if len(item.split(\" \")) > 1 else item for item in df.columns]\n",
    "print(df)"
   ]
  },
  {
   "cell_type": "code",
   "execution_count": 168,
   "id": "4d4e4a79",
   "metadata": {},
   "outputs": [
    {
     "name": "stdout",
     "output_type": "stream",
     "text": [
      "  name  age  note  durum  test_future\n",
      "0    a   10    98  geçti            1\n",
      "1    b   11    32  kaldı            2\n",
      "2    c    9    77  geçti            3\n",
      "  name  age  note  durum\n",
      "0    a   10    98  geçti\n",
      "1    b   11    32  kaldı\n",
      "2    c    9    77  geçti\n"
     ]
    }
   ],
   "source": [
    "#Concatenating Data\n",
    "print(df)\n",
    "df.drop([\"test_future\"] , axis = 1,inplace = True )\n",
    "print(df)"
   ]
  },
  {
   "cell_type": "code",
   "execution_count": 159,
   "id": "7e80ae2e",
   "metadata": {},
   "outputs": [
    {
     "name": "stdout",
     "output_type": "stream",
     "text": [
      "  name  age  note  durum\n",
      "0    a   10    98  geçti\n",
      "1    b   11    32  kaldı\n",
      "2    c    9    77  geçti\n",
      "0    a   10    98  geçti\n",
      "1    b   11    32  kaldı\n",
      "2    c    9    77  geçti\n",
      "  name  age  note  durum name  age  note  durum\n",
      "0    a   10    98  geçti    a   10    98  geçti\n",
      "1    b   11    32  kaldı    b   11    32  kaldı\n",
      "2    c    9    77  geçti    c    9    77  geçti\n"
     ]
    }
   ],
   "source": [
    "df1 =df.head()\n",
    "df2 = df.tail()\n",
    "df_concat = pd.concat([df1,df2],axis=0)#verticle\n",
    "print(df_concat) \n",
    "df_concat2 =pd.concat([df1,df2],axis=1) #horizontal\n",
    "print(df_concat2)"
   ]
  },
  {
   "cell_type": "code",
   "execution_count": 160,
   "id": "e27af2b5",
   "metadata": {},
   "outputs": [
    {
     "data": {
      "text/html": [
       "<div>\n",
       "<style scoped>\n",
       "    .dataframe tbody tr th:only-of-type {\n",
       "        vertical-align: middle;\n",
       "    }\n",
       "\n",
       "    .dataframe tbody tr th {\n",
       "        vertical-align: top;\n",
       "    }\n",
       "\n",
       "    .dataframe thead th {\n",
       "        text-align: right;\n",
       "    }\n",
       "</style>\n",
       "<table border=\"1\" class=\"dataframe\">\n",
       "  <thead>\n",
       "    <tr style=\"text-align: right;\">\n",
       "      <th></th>\n",
       "      <th>name</th>\n",
       "      <th>age</th>\n",
       "      <th>note</th>\n",
       "      <th>durum</th>\n",
       "    </tr>\n",
       "  </thead>\n",
       "  <tbody>\n",
       "    <tr>\n",
       "      <th>0</th>\n",
       "      <td>A</td>\n",
       "      <td>10</td>\n",
       "      <td>98</td>\n",
       "      <td>geçti</td>\n",
       "    </tr>\n",
       "    <tr>\n",
       "      <th>1</th>\n",
       "      <td>B</td>\n",
       "      <td>11</td>\n",
       "      <td>32</td>\n",
       "      <td>kaldı</td>\n",
       "    </tr>\n",
       "    <tr>\n",
       "      <th>2</th>\n",
       "      <td>C</td>\n",
       "      <td>9</td>\n",
       "      <td>77</td>\n",
       "      <td>geçti</td>\n",
       "    </tr>\n",
       "  </tbody>\n",
       "</table>\n",
       "</div>"
      ],
      "text/plain": [
       "  name  age  note  durum\n",
       "0    A   10    98  geçti\n",
       "1    B   11    32  kaldı\n",
       "2    C    9    77  geçti"
      ]
     },
     "execution_count": 160,
     "metadata": {},
     "output_type": "execute_result"
    }
   ],
   "source": [
    "df[\"name\"] = [item.upper() for item in df[\"name\"]]\n",
    "df"
   ]
  },
  {
   "cell_type": "code",
   "execution_count": 173,
   "id": "11ca0e4c",
   "metadata": {},
   "outputs": [
    {
     "name": "stdout",
     "output_type": "stream",
     "text": [
      "  name  age  note  durum  yeni1 not  yeni2 not\n",
      "0    a   10    98  geçti        196        196\n",
      "1    b   11    32  kaldı         64         64\n",
      "2    c    9    77  geçti        154        154\n",
      "------------------------------------------------------------------\n",
      "  name  age  note  durum  yeni1 not  yeni2 not\n",
      "0    a   10    98  geçti        196        196\n",
      "1    b   11    32  kaldı         64         64\n",
      "2    c    9    77  geçti        154        154\n"
     ]
    }
   ],
   "source": [
    "#long way\n",
    "def mlt1(note):\n",
    "    return note*2    \n",
    "df[\"yeni1 not\"] =[mlt1(item) for item in df.note]\n",
    "print(df)\n",
    "#short way with apply\n",
    "def mlt2(note):\n",
    "    return note*2\n",
    "df[\"yeni2 not\"] = df.note.apply(mlt2)\n",
    "print(\"------------------------------------------------------------------\")\n",
    "print(df)"
   ]
  }
 ],
 "metadata": {
  "kernelspec": {
   "display_name": "Python 3 (ipykernel)",
   "language": "python",
   "name": "python3"
  },
  "language_info": {
   "codemirror_mode": {
    "name": "ipython",
    "version": 3
   },
   "file_extension": ".py",
   "mimetype": "text/x-python",
   "name": "python",
   "nbconvert_exporter": "python",
   "pygments_lexer": "ipython3",
   "version": "3.9.13"
  }
 },
 "nbformat": 4,
 "nbformat_minor": 5
}
