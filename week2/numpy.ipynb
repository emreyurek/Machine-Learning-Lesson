{
 "cells": [
  {
   "cell_type": "code",
   "execution_count": null,
   "id": "a4888073",
   "metadata": {},
   "outputs": [],
   "source": [
    "## NumPy library "
   ]
  },
  {
   "cell_type": "code",
   "execution_count": 3,
   "id": "1785f1e2",
   "metadata": {},
   "outputs": [],
   "source": [
    "import numpy as np"
   ]
  },
  {
   "cell_type": "code",
   "execution_count": 54,
   "id": "501b427f",
   "metadata": {},
   "outputs": [
    {
     "name": "stdout",
     "output_type": "stream",
     "text": [
      "version: 1.21.5\n",
      "[1 2 3 4]\n",
      "<class 'numpy.ndarray'>\n",
      "int32\n"
     ]
    }
   ],
   "source": [
    "#create arrays\n",
    "print(\"version:\",np.__version__)\n",
    "arr = np.array([1,2,3,4])\n",
    "print(arr)\n",
    "print(type(arr))\n",
    "print(arr.dtype)"
   ]
  },
  {
   "cell_type": "code",
   "execution_count": 115,
   "id": "42ea8668",
   "metadata": {},
   "outputs": [
    {
     "name": "stdout",
     "output_type": "stream",
     "text": [
      "2-D array\n",
      " [[1 2 3 4]\n",
      " [5 6 7 8]]\n",
      "dimension of arr1: 1\n",
      "dimension of arr2: 2\n",
      "size of array2: 8\n"
     ]
    }
   ],
   "source": [
    "#dimensions in arrays\n",
    "arr0 = np.array(12) # 0-D array\n",
    "arr1 = np.array([5,6,7,8]) # 1-D array\n",
    "arr2 = np.array([[1,2,3,4],[5,6,7,8]]) # 2-D array(matrice)\n",
    "print(\"2-D array\\n\",arr2)\n",
    "# number of dimensions with ndim attribute\n",
    "print(\"dimension of arr1:\",arr1.ndim) \n",
    "print(\"dimension of arr2:\",arr2.ndim)\n",
    "print(\"size of array2:\",arr2.size)"
   ]
  },
  {
   "cell_type": "code",
   "execution_count": 119,
   "id": "ba0ac389",
   "metadata": {},
   "outputs": [
    {
     "name": "stdout",
     "output_type": "stream",
     "text": [
      "first element in array: 1\n",
      "last element int array: 4\n",
      "[[1 2 3 4]\n",
      " [5 6 7 8]]\n",
      "The element in row 0 and column 1 is: 2\n",
      "Last element from 2nd dim is: 8\n"
     ]
    }
   ],
   "source": [
    "#access array elements\n",
    "arr = np.array([1,2,3,4])\n",
    "print(\"first element in array:\",arr[0])\n",
    "print(\"last element int array:\",arr[-1])\n",
    "arr2 = np.array([[1,2,3,4],[5,6,7,8]]) # 2-D array\n",
    "print(arr2)\n",
    "print(\"The element in row 0 and column 1 is:\",arr2[0,1])\n",
    "print(\"Last element from 2nd dim is:\",arr2[1,-1])"
   ]
  },
  {
   "cell_type": "code",
   "execution_count": 122,
   "id": "78459ee3",
   "metadata": {},
   "outputs": [
    {
     "name": "stdout",
     "output_type": "stream",
     "text": [
      "[2 3 4 5 6]\n",
      "[1 2 3 4]\n",
      "[3 4 5 6 7 8]\n",
      "[3 4 5 6 7]\n",
      "[6 8]\n",
      "[4 6]\n",
      "[6 5]\n",
      "[7 4]\n",
      "[[3 4 6]\n",
      " [8 7 5]]\n",
      "[1 2 3 4 5 6 7]\n"
     ]
    }
   ],
   "source": [
    "#slicing arrays\n",
    "#[start:end] also [start:end:step]\n",
    "arr = np.array([1,2,3,4,5,6,7,8])\n",
    "print(arr[1:6])\n",
    "print(arr[:4])\n",
    "print(arr[2:])\n",
    "print(arr[-6:-1]) #negative slicing\n",
    "arr2 = np.array([4,5,6,7,8,9,10])\n",
    "print(arr2[2:6:2]) #determine step of the slicing\n",
    "arr3 = np.array([[3,4,6,7],[8,7,5,4]]) # 2-D array\n",
    "print(arr3[0,1:3])\n",
    "print(arr3[0:2,2])\n",
    "print(arr3[:,3])\n",
    "print(arr3[0:2,0:3])\n",
    "print(arr[::-1])"
   ]
  },
  {
   "cell_type": "code",
   "execution_count": 38,
   "id": "68e24d82",
   "metadata": {},
   "outputs": [
    {
     "name": "stdout",
     "output_type": "stream",
     "text": [
      "int32\n",
      "|S7\n",
      "float32\n",
      "[[ 1.  2.  3.  4.]\n",
      " [ 5.  6.  7.  8.]\n",
      " [ 9. 10. 11. 12.]]\n",
      "[[1 2]\n",
      " [4 6]\n",
      " [2 4]]\n",
      "original array.\n",
      " [[1 2]\n",
      " [4 6]\n",
      " [2 4]]\n",
      "original array.\n",
      " [[ 1  2]\n",
      " [10  6]\n",
      " [ 2  4]]\n",
      "check if array owns its data\n",
      "None\n",
      "[[ 1  2]\n",
      " [10  6]\n",
      " [ 2  4]]\n"
     ]
    }
   ],
   "source": [
    "#data types\n",
    "arr = np.array([[1,2,3,4],[5,6,7,8],[9,10,11,12]])\n",
    "print(arr.dtype)\n",
    "arr2 = np.array([\"emre\",\"ali\",\"mustafa\"],dtype='S') # creating array with defined data type \n",
    "print(arr2.dtype)\n",
    "#change the data type with astype() method\n",
    "newarr = arr.astype('f')\n",
    "print(newarr.dtype)\n",
    "print(newarr)\n",
    "\n",
    "#copy() and view()\n",
    "oriarr = np.array([[1,2],[4,6],[2,4]])\n",
    "arrc = oriarr.copy()\n",
    "print(arrc)\n",
    "arrc[1,0] = 10 # will not affect original array\n",
    "print(\"original array.\\n\",oriarr)\n",
    "arrv =oriarr.view()\n",
    "arrv[1,0] = 10 # will affect  original array\n",
    "print(\"original array.\\n\",oriarr)\n",
    "print(\"check if array owns its data\")\n",
    "#base\n",
    "print(arrc.base) # return none -> copy() method\n",
    "print(arrv.base) # refers the original object -> view() method"
   ]
  },
  {
   "cell_type": "code",
   "execution_count": 98,
   "id": "a79eaca6",
   "metadata": {},
   "outputs": [
    {
     "name": "stdout",
     "output_type": "stream",
     "text": [
      "shape of array: (2, 3)\n",
      "[[1 2 3]\n",
      " [4 5 6]\n",
      " [7 8 9]]\n",
      "[ 4  6  7 12 76  2]\n"
     ]
    }
   ],
   "source": [
    "# shape\n",
    "# returns a tupple\n",
    "arr = np.array([[4,5,6],[1,2,4]])\n",
    "print(\"shape of array:\",arr.shape) # return (2,3) ,array has 2 dimensions. First dimension has 2 elements and the second has 3.\n",
    "#reshape\n",
    "arr2 = np.array([1,2,3,4,5,6,7,8,9])\n",
    "print(arr2.reshape(3,3))\n",
    "#reshape(-1)\n",
    "arr2 = np.array([[4,6,7],[12,76,2]])\n",
    "print(arr2.ravel()) # =  reshape(-1) method which is converting array into a 1D array "
   ]
  },
  {
   "cell_type": "code",
   "execution_count": 113,
   "id": "e90bc437",
   "metadata": {
    "scrolled": true
   },
   "outputs": [
    {
     "name": "stdout",
     "output_type": "stream",
     "text": [
      "[[0. 0. 0. 0.]\n",
      " [0. 0. 0. 0.]]\n",
      "\n",
      " [[1. 1. 1. 1. 1.]\n",
      " [1. 1. 1. 1. 1.]\n",
      " [1. 1. 1. 1. 1.]]\n",
      "\n",
      " [[4.45057637e-308 1.78021527e-306 8.45549797e-307]\n",
      " [1.37962049e-306 1.11260619e-306 1.78010255e-306]\n",
      " [1.42409073e-306 4.45058910e-308 8.45596650e-307]\n",
      " [9.34602321e-307 4.94065646e-322 4.93432906e+257]]\n"
     ]
    }
   ],
   "source": [
    "arr = np.zeros((2,4))\n",
    "print(arr)\n",
    "arr2 = np.ones((3,5))\n",
    "print(\"\\n\",arr2)\n",
    "arr3 = np.empty((4,3))\n",
    "print(\"\\n\",arr3)"
   ]
  },
  {
   "cell_type": "code",
   "execution_count": 125,
   "id": "109d6bb6",
   "metadata": {},
   "outputs": [
    {
     "name": "stdout",
     "output_type": "stream",
     "text": [
      "[ 9 12 15 18]\n",
      "[ 0.   2.5  5.   7.5 10. ]\n"
     ]
    }
   ],
   "source": [
    "arr = np.arange(9,21,3)\n",
    "print(arr)\n",
    "arr2 = np.linspace(0,10,5)\n",
    "print(arr2)\n"
   ]
  },
  {
   "cell_type": "code",
   "execution_count": 85,
   "id": "673f4b60",
   "metadata": {},
   "outputs": [
    {
     "name": "stdout",
     "output_type": "stream",
     "text": [
      "[ 5 12  9]\n",
      "[ 4 35 18]\n",
      "[-3  2 -3]\n",
      "[0.25 1.4  0.5 ]\n",
      "[1 2 3]\n"
     ]
    }
   ],
   "source": [
    "arr = np.array([1,7,3])\n",
    "arr2 = np.array([4,5,6])\n",
    "print(arr+arr2)\n",
    "print(arr*arr2)\n",
    "print(arr-arr2)\n",
    "print(arr/arr2)\n",
    "print(arr%arr2)"
   ]
  },
  {
   "cell_type": "code",
   "execution_count": 86,
   "id": "bf8c2571",
   "metadata": {},
   "outputs": [
    {
     "name": "stdout",
     "output_type": "stream",
     "text": [
      "[1, 2, 3, 4]\n",
      "[1 2 3 4]\n"
     ]
    }
   ],
   "source": [
    "liste = [1,2,3,4]\n",
    "arr = np.array([1,2,3,4])\n",
    "print(liste)\n",
    "print(arr)"
   ]
  },
  {
   "cell_type": "code",
   "execution_count": 90,
   "id": "1d737a34",
   "metadata": {},
   "outputs": [
    {
     "name": "stdout",
     "output_type": "stream",
     "text": [
      "[ 1 10  3] [ 1 10  3] [ 1 10  3]\n"
     ]
    }
   ],
   "source": [
    "a = np.array([1,2,3])\n",
    "b = a\n",
    "c = b\n",
    "c[1] = 10\n",
    "print(a,b,c)"
   ]
  },
  {
   "cell_type": "code",
   "execution_count": 99,
   "id": "bc5b3ed9",
   "metadata": {},
   "outputs": [
    {
     "name": "stdout",
     "output_type": "stream",
     "text": [
      "[[1 5]\n",
      " [2 6]\n",
      " [4 7]]\n"
     ]
    }
   ],
   "source": [
    "#transpose\n",
    "arr = np.array([[1,2,4],[5,6,7]])\n",
    "print(arr.T)"
   ]
  },
  {
   "cell_type": "code",
   "execution_count": 123,
   "id": "bd94aa53",
   "metadata": {},
   "outputs": [
    {
     "name": "stdout",
     "output_type": "stream",
     "text": [
      "1\n",
      "2\n",
      "3\n",
      "4\n",
      "5\n",
      "1\n",
      "2\n",
      "3\n",
      "4\n",
      "5\n",
      "6\n",
      "using nditer function\n",
      "1\n",
      "2\n",
      "3\n",
      "4\n",
      "5\n",
      "6\n",
      "(0, 0) 1\n",
      "(0, 1) 2\n",
      "(0, 2) 3\n",
      "(1, 0) 4\n",
      "(1, 1) 5\n",
      "(1, 2) 6\n"
     ]
    }
   ],
   "source": [
    "#iterating arrays\n",
    "arr = np.array([1,2,3,4,5])\n",
    "for item in arr:\n",
    "    print(item)\n",
    "arr2 = np.array([[1,2,3],[4,5,6]])\n",
    "for item in arr2:\n",
    "    for item2 in item:\n",
    "        print(item2)\n",
    "#nditer()  function\n",
    "print(\"using nditer function\")\n",
    "for item in np.nditer(arr2):\n",
    "    print(item)\n",
    " #ndenumerate() function\n",
    "for id,item in np.ndenumerate(arr2):\n",
    "    print(id,item)"
   ]
  }
 ],
 "metadata": {
  "kernelspec": {
   "display_name": "Python 3 (ipykernel)",
   "language": "python",
   "name": "python3"
  },
  "language_info": {
   "codemirror_mode": {
    "name": "ipython",
    "version": 3
   },
   "file_extension": ".py",
   "mimetype": "text/x-python",
   "name": "python",
   "nbconvert_exporter": "python",
   "pygments_lexer": "ipython3",
   "version": "3.9.13"
  }
 },
 "nbformat": 4,
 "nbformat_minor": 5
}
